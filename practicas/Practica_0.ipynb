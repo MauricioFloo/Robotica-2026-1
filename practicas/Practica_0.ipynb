{
 "cells": [
  {
   "cell_type": "markdown",
   "metadata": {},
   "source": [
    "# Práctica 0. Nódos y Tópicos\n",
    "\n",
    "## Objetivo\n",
    "\n",
    "Que los alumnos comprendan los conceptos básicos relacionados con los Nodos y los Tópicos, mediante la creación de un paquete con políticas en Python."
   ]
  },
  {
   "cell_type": "markdown",
   "metadata": {},
   "source": [
    "## Previo de la Práctica 0\n",
    "\n",
    "### Definición de Nodo y Tópico en ROS 2\n",
    "\n",
    "**Nodo**\n",
    "- Un **nodo** es la unidad fundamental de computación en ROS 2. Cada nodo es un proceso ejecutable (programa) que realiza una tarea específica dentro del sistema robótico.\n",
    "\n",
    "**Características principales:**\n",
    "- Funcionalidad especializada: Cada nodo suele encargarse de una única función (ej: leer sensores, controlar motores, planificar rutas)\n",
    "- Comunicación: Los nodos se comunican entre sí mediante mensajes, usando mecanismos como tópicos, servicios o acciones\n",
    "- Independencia: Son entidades independientes que pueden ejecutarse en la misma máquina o distribuirse en diferentes dispositivos\n",
    "- Ejemplo: Un nodo para leer datos de una cámara, otro para procesar esas imágenes, y otro para controlar los movimientos del robot\n",
    "\n",
    "**Tópico**\n",
    "- Un **tópico** es un canal de comunicación asíncrono y unidireccional mediante el cual los nodos intercambian mensajes usando el patrón publicador-suscriptor.\n",
    "\n",
    "**Características principales:**\n",
    "- Comunicación por mensajes: Los nodos publican mensajes en un tópico o se suscriben a él para recibirlos\n",
    "- Desacoplado: Los publicadores y suscriptores no necesitan conocerse entre sí, solo necesitan saber el nombre del tópico\n",
    "- Asíncrono: La comunicación no requiere que emisor y receptor estén activos al mismo tiempo\n",
    "- Ejemplo: Un nodo publica lecturas de un sensor láser en el tópico `/scan`, mientras otro nodo se suscribe a ese tópico para recibir esas lecturas y evitar obstáculos"
   ]
  },
  {
   "cell_type": "markdown",
   "metadata": {},
   "source": [
    "### Los tres tipos de interfaces que maneja ROS 2\n",
    "\n",
    "**1. Mensajes (Messages)**\n",
    "- **Comunicación unidireccional y asíncrona** mediante el patrón publicador-suscriptor\n",
    "- **Flujo de datos continuo** ideal para sensores, telemetría y estados variables\n",
    "- **Ejemplo:** Datos de láser, imágenes de cámara, posición del robot\n",
    "- **No hay confirmación de recepción** ni garantía de procesamiento\n",
    "\n",
    "**2. Servicios (Services)**\n",
    "- **Comunicación bidireccional y síncrona** mediante el patrón cliente-servidor\n",
    "- **Solicitud-respuesta** donde el cliente espera una respuesta del servidor\n",
    "- **Ejemplo:** Comandos específicos, cálculos bajo demanda, consultas puntuales\n",
    "- **Conexión directa** con confirmación inmediata de éxito/error\n",
    "\n",
    "**3. Acciones (Actions)**\n",
    "- **Comunicación bidireccional y asíncrona** para operaciones de larga duración\n",
    "- **Patrón cliente-servidor con feedback** intermedio y capacidad de cancelación\n",
    "- **Ejemplo:** Navegación a un punto, manipulación de objetos, misiones complejas\n",
    "- **Permite monitorear progreso** y abortar la operación si es necesario"
   ]
  },
  {
   "cell_type": "markdown",
   "metadata": {},
   "source": [
    "### ¿Cómo se documenta la creación de paquetes en programación (árbol)?\n",
    "\n",
    "La documentación de paquetes en programación utiliza representaciones en árbol que muestran jerarquías de directorios con símbolos visuales intuitivos (📁 carpetas, 📄 archivos), pero su verdadero valor está en los metadatos técnicos que incluye: dependencias específicas con versiones, scripts de instalación, configuraciones de compilación, parámetros de despliegue, estructuras de módulos importables y políticas de mantenimiento. Esta documentación no solo muestra la estructura, sino que define relaciones críticas entre componentes, especifica entornos de ejecución, establece protocolos de testing y documenta APIs, convirtiéndose en el blueprint técnico esencial para la instalación, distribución y escalabilidad del software en diferentes entornos."
   ]
  },
  {
   "cell_type": "markdown",
   "metadata": {},
   "source": [
    "## Desarrollo de la Práctica 0\n",
    "\n",
    "### Código nodo publicador:"
   ]
  },
  {
   "cell_type": "code",
   "execution_count": null,
   "metadata": {},
   "outputs": [],
   "source": [
    "#!/usr/bin/env python3\n",
    "\n",
    "import rclpy\n",
    "from rclpy.node import Node\n",
    "from std_msgs.msg import Float64\n",
    "from math import sin, pi\n",
    "import time\n",
    "\n",
    "class MyPublisher(Node):\n",
    "    def __init__(self):\n",
    "        super().__init__(\"publish_node\")\n",
    "        self.publisher_ = self.create_publisher(Float64, \"publish_topic\", 10)\n",
    "        self.get_logger().info(\"Node publicador senoidal activo\")\n",
    "        self.start_time = time.time()\n",
    "        self.create_timer(0.1, self.timer_callback)  # ejecuta cada 0.1 segundos\n",
    "\n",
    "    def timer_callback(self):\n",
    "        t = time.time() - self.start_time  # tiempo transcurrido\n",
    "        rpm = 1500 + 500 * sin(2 * pi * 0.5 * t)  # señal senoidal en RPM\n",
    "        msg = Float64()\n",
    "        msg.data = rpm\n",
    "        self.publisher_.publish(msg)\n",
    "        self.get_logger().info(f\"Publicando: {rpm:.2f} RPM\")\n",
    "\n",
    "def main(args=None):\n",
    "    rclpy.init(args=args)\n",
    "    node = MyPublisher()\n",
    "    rclpy.spin(node)\n",
    "    rclpy.shutdown()\n",
    "\n",
    "if __name__ == '__main__':\n",
    "    main()"
   ]
  },
  {
   "cell_type": "markdown",
   "metadata": {},
   "source": [
    "**Explicación:** Este nodo ROS 2 funciona como un generador de señales senoidales que publica valores de RPM (Revoluciones Por Minuto) en el tópico \"publish_topic\", simulando el comportamiento de un sensor de motor que oscila entre 1000 y 2000 RPM con una frecuencia de 0.5 Hz, publicando nuevos valores cada 0.1 segundos para que otros nodos del sistema puedan suscribirse y utilizar estos datos en tiempo real."
   ]
  },
  {
   "cell_type": "markdown",
   "metadata": {},
   "source": [
    "### Código nodo subscriptor-publicador"
   ]
  },
  {
   "cell_type": "code",
   "execution_count": null,
   "metadata": {},
   "outputs": [],
   "source": [
    "#!/usr/bin/env python3\n",
    "\n",
    "import rclpy\n",
    "from rclpy.node import Node\n",
    "from std_msgs.msg import Float64\n",
    "from math import pi\n",
    "\n",
    "class SubNode(Node):\n",
    "    def __init__(self):\n",
    "        super().__init__(\"node_sub_pub\")\n",
    "\n",
    "        # Suscriptor al tópico de RPM (float)\n",
    "        self.subscriber_ = self.create_subscription(\n",
    "            Float64,\n",
    "            \"publish_topic\",\n",
    "            self.sub_callback,\n",
    "            10\n",
    "        )\n",
    "\n",
    "        # Publicador al nuevo tópico en rad/s\n",
    "        self.publisher_ = self.create_publisher(\n",
    "            Float64,\n",
    "            \"rad_vel_topic\",\n",
    "            10\n",
    "        )\n",
    "        self.get_logger().info(\"Modo subscriptor-publicador activo (RPM → rad/s)\")\n",
    "\n",
    "    def sub_callback(self, msg):\n",
    "        rpm = msg.data\n",
    "        rad_s = rpm * 2 * pi / 60.0  # Conversión: RPM → rad/s\n",
    "\n",
    "        new_msg = Float64()\n",
    "        new_msg.data = rad_s\n",
    "\n",
    "        # Publica el resultado\n",
    "        self.publisher_.publish(new_msg)\n",
    "        self.get_logger().info(f\"RPM: {rpm:.2f} → RAD/S: {rad_s:.2f}\")\n",
    "\n",
    "def main(args=None):\n",
    "    rclpy.init(args=args)\n",
    "    node = SubNode()\n",
    "    rclpy.spin(node)\n",
    "    node.destroy_node()\n",
    "    rclpy.shutdown()\n",
    "\n",
    "if __name__ == \"__main__\":\n",
    "    main()"
   ]
  },
  {
   "cell_type": "markdown",
   "metadata": {},
   "source": [
    "**Explicación:** Este nodo ROS 2 actúa como un convertidor en tiempo real que se suscribe al tópico \"publish_topic\" para recibir valores en RPM, los convierte a radianes por segundo usando la fórmula rad_s = RPM × 2π / 60, y publica el resultado convertido en el tópico \"rad_vel_topic\", permitiendo que otros componentes del sistema robótico trabajen con unidades angulares estándar."
   ]
  },
  {
   "cell_type": "markdown",
   "metadata": {},
   "source": [
    "## Resultados\n",
    "\n",
    "### Videos:\n",
    "\n",
    "Link del vídeo: https://youtu.be/P5jUkIkD17w"
   ]
  },
  {
   "cell_type": "markdown",
   "metadata": {},
   "source": [
    "## Conclusiones\n",
    "\n",
    "Basándome en lo propuesto en los objetivos puedo decir que se cumplieron con los mismos, ya que gracias a la construcción de los diferentes nodos usados durante la clase y esta práctica, logré una mejor comprensión del uso y la diferencia que hay entre un nodo subscriptor, publicador y subscriptor-publicador. Nos ayudan a determinar la arquitectura, eficiencia y confiabilidad del sistema robótico, ya que cada patrón de comunicación (mensajes, servicios o acciones) resuelve problemas específicos."
   ]
  },
  {
   "cell_type": "markdown",
   "metadata": {},
   "source": [
    "## Bibliografía\n",
    "\n",
    "- S. Macenski, T. Foote, B. Gerkey, C. Lalancette, and W. Woodall, \"Robot Operating System 2: Design, architecture, and uses in the wild,\" Science Robotics, vol. 7, no. 66, p. eabm6074, May 2022.\n",
    "\n",
    "- D. H. Moon, S. H. Lee, and J. H. Park, \"Design and implementation of ROS 2 based robot system architecture for autonomous driving,\" in 2021 21st International Conference on Control, Automation and Systems (ICCAS), Jeju, Korea, 2021, pp. 1206-1209.\n",
    "\n",
    "- M. A. Karkoum, A. A. Makarem, and M. N. Kabalan, \"Real-time performance evaluation of ROS 2 for robotic applications,\" in 2019 International Conference on Electrical and Computing Technologies and Applications (ICECTA), Ras Al Khaimah, UAE, 2019, pp. 1-5.\n",
    "\n",
    "- Y. Maruyama, S. Kato, and T. Azumi, \"Exploring the performance of ROS2,\" in 2016 International Conference on Embedded Software (EMSOFT), Pittsburgh, PA, USA, 2016, pp. 1-10."
   ]
  }
 ],
 "metadata": {
  "kernelspec": {
   "display_name": "Python 3",
   "language": "python",
   "name": "python3"
  },
  "language_info": {
   "codemirror_mode": {
    "name": "ipython",
    "version": 3
   },
   "file_extension": ".py",
   "mimetype": "text/x-python",
   "name": "python",
   "nbconvert_exporter": "python",
   "pygments_lexer": "ipython3",
   "version": "3.8"
  }
 },
 "nbformat": 4,
 "nbformat_minor": 4
}
